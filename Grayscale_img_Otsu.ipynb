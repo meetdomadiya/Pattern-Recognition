{
 "cells": [
  {
   "cell_type": "code",
   "execution_count": 18,
   "id": "e16ccbde",
   "metadata": {},
   "outputs": [
    {
     "data": {
      "text/plain": [
       "(512, 512)"
      ]
     },
     "execution_count": 18,
     "metadata": {},
     "output_type": "execute_result"
    }
   ],
   "source": [
    "#Load Imports\n",
    "import cv2\n",
    "from matplotlib import pyplot as plt\n",
    "import numpy as np\n",
    "\n",
    "# Load the image as grayscale image\n",
    "img = cv2.imread(\"grapes.pgm\", cv2.IMREAD_GRAYSCALE)\n",
    "img.shape"
   ]
  },
  {
   "cell_type": "code",
   "execution_count": 19,
   "id": "6ca1efa1",
   "metadata": {},
   "outputs": [
    {
     "data": {
      "text/plain": [
       "array([  57.,  465., 1004.,  754.,  772.,  789.,  809.,  838.,  892.,\n",
       "        998., 1015., 1084., 1176., 1133., 1232., 1143., 1301., 1203.,\n",
       "       1286., 1335., 1356., 1353., 1339., 1327., 1299., 1354., 1263.,\n",
       "       1272., 1155., 1112., 1174., 1083., 1087., 1006., 1030., 1034.,\n",
       "       1001., 1020., 1076., 1092., 1167., 1133., 1170., 1107., 1169.,\n",
       "       1073., 1048., 1047., 1039., 1019., 1007.,  933.,  971.,  896.,\n",
       "        953.,  897.,  882.,  830.,  840.,  818.,  797.,  736.,  786.,\n",
       "        691.,  765.,  667.,  666.,  648.,  660.,  681.,  658.,  635.,\n",
       "        650.,  594.,  659.,  644.,  661.,  642.,  586.,  666.,  639.,\n",
       "        640.,  703.,  665.,  649.,  644.,  675.,  700.,  643.,  624.,\n",
       "        657.,  656.,  610.,  610.,  657.,  612.,  662.,  642.,  599.,\n",
       "        615.,  680.,  672.,  691.,  632.,  692.,  700.,  725.,  711.,\n",
       "        726.,  725.,  703.,  763.,  804.,  828.,  856.,  814.,  872.,\n",
       "        970.,  995., 1044., 1063., 1175., 1210., 1168., 1225., 1245.,\n",
       "       1210., 1303., 1366., 1435., 1578., 1520., 1520., 1612., 1665.,\n",
       "       1778., 1832., 1891., 1912., 1950., 2008., 2226., 2183., 2135.,\n",
       "       2203., 2349., 2320., 2414., 2248., 2156., 2062., 2087., 2140.,\n",
       "       2240., 2084., 2086., 2093., 2284., 2124., 2168., 2253., 2329.,\n",
       "       2393., 2525., 2429., 2375., 2256., 2106., 2114., 1954., 1895.,\n",
       "       1794., 1751., 1721., 1658., 1526., 1577., 1478., 1458., 1311.,\n",
       "       1253., 1293., 1255., 1198., 1314., 1326., 1297., 1389., 1299.,\n",
       "       1383., 1282., 1209., 1181., 1173., 1190., 1196., 1207., 1252.,\n",
       "       1277., 1221., 1165., 1109., 1104., 1146., 1055.,  984.,  984.,\n",
       "        944.,  858.,  799.,  758.,  644.,  633.,  580.,  605.,  429.,\n",
       "        378.,  330.,  290.,  287.,  290.,  245.,  213.,  237.,  210.,\n",
       "        193.,  179.,  145.,  163.,  154.,  144.,  131.,  113.,  128.,\n",
       "        126.,  125.,  125.,  116.,   94.,  116.,  104.,  111.,  148.,\n",
       "        114.,  112.,  122.,  139.,  134.,  149.,  170.,  150.,  115.,\n",
       "         83.,   52.,   25.,    6.])"
      ]
     },
     "execution_count": 19,
     "metadata": {},
     "output_type": "execute_result"
    }
   ],
   "source": [
    "#The function gets a grayscale image as input and returns the filled histogram\n",
    "def histogram(img):\n",
    "    hist = np.zeros(256)\n",
    "    flat_img = img.flatten()\n",
    "    unique_values, counts = np.unique(flat_img, return_counts=True)\n",
    "    hist[unique_values] = counts\n",
    "    return hist\n",
    "histogram(img)"
   ]
  },
  {
   "cell_type": "code",
   "execution_count": 20,
   "id": "70dea8bb",
   "metadata": {},
   "outputs": [],
   "source": [
    "#Calculate OTSU Threshold\n",
    "def otsu_threshold(img):            \n",
    "       \n",
    "    # Step 1: Compute the histogram\n",
    "    hist = histogram(img)\n",
    "\n",
    "    # Step 2: Compute relative histogram\n",
    "    total_pixels = img.size\n",
    "    relative_hist = hist / total_pixels\n",
    "\n",
    "    # Step 3: Iterate over all possible thresholds to find the optimal threshold\n",
    "    optimal_threshold = 0\n",
    "    max_j = 0\n",
    "\n",
    "    for threshold in range(256):\n",
    "        \n",
    "        # Compute class probabilities\n",
    "        p1 = np.sum(relative_hist[:threshold+1])\n",
    "        p2 = 1 - p1\n",
    "\n",
    "        # Compute mean values\n",
    "        m1 = np.sum(np.arange(0, threshold+1) * relative_hist[:threshold+1]) / p1\n",
    "        m2 = np.sum(np.arange(threshold+1, 256) * relative_hist[threshold+1:]) / p2\n",
    "\n",
    "        # Compute between-class variance\n",
    "        sigma_b_squared = p1 * p2 * (m1 - m2) ** 2\n",
    "\n",
    "        # Compute J value\n",
    "        J = sigma_b_squared\n",
    "\n",
    "        # Update optimal threshold if J value is higher\n",
    "        if J > max_j:\n",
    "            max_j = J\n",
    "            optimal_threshold = threshold\n",
    "\n",
    "    return optimal_threshold"
   ]
  },
  {
   "cell_type": "code",
   "execution_count": 28,
   "id": "0ad3ea35",
   "metadata": {},
   "outputs": [
    {
     "name": "stderr",
     "output_type": "stream",
     "text": [
      "C:\\Users\\meet\\AppData\\Local\\Temp\\ipykernel_17012\\1712041075.py:23: RuntimeWarning: invalid value encountered in scalar divide\n",
      "  m2 = np.sum(np.arange(threshold+1, 256) * relative_hist[threshold+1:]) / p2\n"
     ]
    },
    {
     "name": "stdout",
     "output_type": "stream",
     "text": [
      "The Threshold you calculated is same!\n"
     ]
    },
    {
     "data": {
      "image/png": "[encoded data removed]",
      "text/plain": [
       "<Figure size 640x480 with 1 Axes>"
      ]
     },
     "metadata": {},
     "output_type": "display_data"
    }
   ],
   "source": [
    "#Show Image\n",
    "My_threshold = otsu_threshold(img)\n",
    "_, thresh_image = cv2.threshold(img, 0, 255, cv2.THRESH_OTSU)\n",
    "\n",
    "if My_threshold == _:\n",
    "    print(\"The Threshold you calculated is same!\")\n",
    "\n",
    "    fig = plt.figure()\n",
    "ax1 = fig.add_subplot(2, 1, 2)\n",
    "ax1.imshow(thresh_image, \"gray\")\n",
    "plt.xlabel(f\"Thresh: {_}\")\n",
    "plt.show()\n"
   ]
  }
 ],
 "metadata": {
  "kernelspec": {
   "display_name": "Python 3 (ipykernel)",
   "language": "python",
   "name": "python3"
  },
  "language_info": {
   "codemirror_mode": {
    "name": "ipython",
    "version": 3
   },
   "file_extension": ".py",
   "mimetype": "text/x-python",
   "name": "python",
   "nbconvert_exporter": "python",
   "pygments_lexer": "ipython3",
   "version": "3.11.5"
  }
 },
 "nbformat": 4,
 "nbformat_minor": 5
}
